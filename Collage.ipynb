{
 "cells": [
  {
   "cell_type": "code",
   "execution_count": 1,
   "metadata": {},
   "outputs": [],
   "source": [
    "import cv2\n",
    "import numpy as np\n"
   ]
  },
  {
   "cell_type": "code",
   "execution_count": 2,
   "metadata": {},
   "outputs": [],
   "source": [
    "image1=cv2.imread(\"shr1.jpg\")\n",
    "image2=cv2.imread(\"shr2.jpg\")\n",
    "image3=cv2.imread(\"shr3.jpg\")\n",
    "image4=cv2.imread(\"shr4.jpg\")"
   ]
  },
  {
   "cell_type": "code",
   "execution_count": 3,
   "metadata": {},
   "outputs": [],
   "source": [
    "#Resize the image\n",
    "image1=cv2.resize(image1,(300,300))\n",
    "image2=cv2.resize(image2,(300,300))\n",
    "image3=cv2.resize(image3,(300,300))\n",
    "image4=cv2.resize(image4,(300,300))\n"
   ]
  },
  {
   "cell_type": "code",
   "execution_count": 4,
   "metadata": {},
   "outputs": [],
   "source": [
    "# Now how we will attach image with other image\n",
    "# we will create a horizontal stack of images\n",
    "# then we will add it to the vertical stack\n",
    "# let the horizontal pair be (image1,image2)\n",
    "# and (image3,image4)\n",
    "# we will use numpy stack function\n",
    "Horizontal1=np.hstack([image1,image2])\n",
    "Horizontal2=np.hstack([image3,image4])"
   ]
  },
  {
   "cell_type": "code",
   "execution_count": 5,
   "metadata": {},
   "outputs": [],
   "source": [
    "Vertical_attachment=np.vstack([Horizontal1,Horizontal2])"
   ]
  },
  {
   "cell_type": "code",
   "execution_count": 6,
   "metadata": {},
   "outputs": [],
   "source": [
    "#Final Collage Ready\n",
    "cv2.imshow(\"Final Collage\",Vertical_attachment)\n",
    "cv2.waitKey(0)\n",
    "cv2.destroyAllWindows()"
   ]
  },
  {
   "cell_type": "code",
   "execution_count": null,
   "metadata": {},
   "outputs": [],
   "source": []
  }
 ],
 "metadata": {
  "kernelspec": {
   "display_name": "Python 3",
   "language": "python",
   "name": "python3"
  },
  "language_info": {
   "codemirror_mode": {
    "name": "ipython",
    "version": 3
   },
   "file_extension": ".py",
   "mimetype": "text/x-python",
   "name": "python",
   "nbconvert_exporter": "python",
   "pygments_lexer": "ipython3",
   "version": "3.8.3"
  }
 },
 "nbformat": 4,
 "nbformat_minor": 4
}
