{
 "cells": [
  {
   "cell_type": "code",
   "execution_count": 1,
   "metadata": {},
   "outputs": [],
   "source": [
    "import cv2\n",
    "import numpy as np"
   ]
  },
  {
   "cell_type": "code",
   "execution_count": 2,
   "metadata": {},
   "outputs": [],
   "source": [
    "photo =cv2.imread('lady.jpg')\n",
    "cv2.imshow('hi', photo)\n",
    "cv2.waitKey()\n",
    "cv2.destroyAllWindows()"
   ]
  },
  {
   "cell_type": "code",
   "execution_count": 3,
   "metadata": {},
   "outputs": [],
   "source": [
    "#DOWNLOAD THIS PRECREATED LIBRARY FOR DETECTING COORDINATES\n",
    "model = cv2.CascadeClassifier('haarcascade_frontalface.xml')"
   ]
  },
  {
   "cell_type": "code",
   "execution_count": 4,
   "metadata": {},
   "outputs": [
    {
     "name": "stdout",
     "output_type": "stream",
     "text": [
      "[[673 688  52  52]\n",
      " [335 214 151 151]]\n",
      " 673, 725, 688, 740\n"
     ]
    }
   ],
   "source": [
    "faces = model.detectMultiScale(photo)\n",
    "x1 = faces[0][0]\n",
    "y1 = faces[0][1]\n",
    "x2 = x1 + faces[0][2]\n",
    "y2 = y1 + faces[0][3]\n",
    "print(faces)\n",
    "print(f\" {x1}, {x2}, {y1}, {y2}\")         #FORMAT FUNCTION\n",
    "face_lady = cv2.rectangle(photo, (x1,y1) , (x2,y2), [255,255,255], 2)      #DRAW THE RECTANGLE\n",
    "cv2.imshow(\"image\", face_lady)\n",
    "cv2.waitKey()\n",
    "cv2.destroyAllWindows()"
   ]
  },
  {
   "cell_type": "code",
   "execution_count": null,
   "metadata": {},
   "outputs": [],
   "source": [
    "len(faces)"
   ]
  },
  {
   "cell_type": "code",
   "execution_count": 5,
   "metadata": {},
   "outputs": [],
   "source": [
    "photo1 =cv2.imread('Harrypotter.jpg')\n",
    "cv2.imshow('hi', photo)\n",
    "cv2.waitKey()\n",
    "cv2.destroyAllWindows()"
   ]
  },
  {
   "cell_type": "code",
   "execution_count": 6,
   "metadata": {},
   "outputs": [
    {
     "name": "stdout",
     "output_type": "stream",
     "text": [
      "[[101  72 188 188]]\n",
      " 101, 289, 72, 260\n"
     ]
    }
   ],
   "source": [
    "faces1 = model.detectMultiScale(photo1)\n",
    "x1 = faces1[0][0]\n",
    "y1 = faces1[0][1]\n",
    "x2 = x1 + faces1[0][2]\n",
    "y2 = y1 + faces1[0][3]\n",
    "print(faces1)\n",
    "print(f\" {x1}, {x2}, {y1}, {y2}\")\n"
   ]
  },
  {
   "cell_type": "code",
   "execution_count": 7,
   "metadata": {},
   "outputs": [],
   "source": [
    "face_harry = cv2.rectangle(photo1, (x1,y1) , (x2,y2), [255,255,255], 2)\n",
    "cv2.imshow(\"image\", face_harry)\n",
    "cv2.waitKey()\n",
    "cv2.destroyAllWindows()"
   ]
  },
  {
   "cell_type": "markdown",
   "metadata": {},
   "source": [
    "# SWAPPING THE IMAGE"
   ]
  },
  {
   "cell_type": "code",
   "execution_count": 8,
   "metadata": {},
   "outputs": [],
   "source": [
    "swap = photo[214:402, 335:523]\n",
    "face_harry[72:260, 100:288] = swap\n",
    "cv2.imshow(\"Swapped image\", face_harry)\n",
    "cv2.waitKey()\n",
    "cv2.destroyAllWindows()"
   ]
  },
  {
   "cell_type": "code",
   "execution_count": null,
   "metadata": {},
   "outputs": [],
   "source": []
  }
 ],
 "metadata": {
  "kernelspec": {
   "display_name": "Python 3",
   "language": "python",
   "name": "python3"
  },
  "language_info": {
   "codemirror_mode": {
    "name": "ipython",
    "version": 3
   },
   "file_extension": ".py",
   "mimetype": "text/x-python",
   "name": "python",
   "nbconvert_exporter": "python",
   "pygments_lexer": "ipython3",
   "version": "3.8.3"
  }
 },
 "nbformat": 4,
 "nbformat_minor": 4
}
