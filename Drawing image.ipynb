{
 "cells": [
  {
   "cell_type": "code",
   "execution_count": 1,
   "metadata": {},
   "outputs": [],
   "source": [
    "import cv2\n",
    "import numpy as np\n"
   ]
  },
  {
   "cell_type": "code",
   "execution_count": 2,
   "metadata": {},
   "outputs": [],
   "source": [
    "image=np.zeros((600,1200,3))\n"
   ]
  },
  {
   "cell_type": "code",
   "execution_count": 3,
   "metadata": {},
   "outputs": [],
   "source": [
    "fontScale = 2\n",
    "org = (350,500)  #it will set  the text place \n",
    "text = \"SNAKE\"\n",
    "font = cv2.FONT_HERSHEY_SIMPLEX\n",
    "color = (0, 0, 255)\n",
    "thickness = 5\n",
    "image = cv2.putText(image, text, org, font, fontScale,\n",
    "                  color, thickness, cv2.LINE_AA,False) "
   ]
  },
  {
   "cell_type": "code",
   "execution_count": 4,
   "metadata": {},
   "outputs": [],
   "source": [
    "p1 = (350, 200)\n",
    "p2 = (300, 700)\n",
    "#p3 = (400, 200)\n",
    "cv2.circle(image, (350, 200), 80, (0,0,255), -1, )\n",
    "cv2.circle(image, (300, 250), 10, (255, 255, 255), -1, )\n",
    "cv2.circle(image, (300, 150), 10,   (255, 255, 255), -1, )\n",
    "cv2.circle(image, (350, 200), 80, (0, 255, 255), 3, )\n",
    "cv2.circle(image, (500, 200), 80, (255, 0, 255), 3, )\n",
    "cv2.circle(image, (650, 200), 80, (255, 0, 0), -1, )\n",
    "cv2.circle(image, (800, 200), 80, (255, 255, 0), 3, )\n",
    "cv2.circle(image, (950, 200), 80, (0, 0, 255), 3, )\n",
    "cv2.circle(image, (1100, 200), 80, (0, 51, 0), -1, )\n",
    "\n",
    "#cv2.circle(image, center=(100,800), radius=90, color=(255,0,255), thickness= -1)\n",
    "#cv2.line(image, p1, p2, (0, 255,255 ), 3)\n",
    "#cv2.line(image, p2, p3, (255, 0, 0), 5)\n",
    "cv2.imshow(\"hi\", image)\n",
    "cv2.waitKey(0)\n",
    "cv2.destroyAllWindows()"
   ]
  },
  {
   "cell_type": "code",
   "execution_count": null,
   "metadata": {},
   "outputs": [],
   "source": []
  }
 ],
 "metadata": {
  "kernelspec": {
   "display_name": "Python 3",
   "language": "python",
   "name": "python3"
  },
  "language_info": {
   "codemirror_mode": {
    "name": "ipython",
    "version": 3
   },
   "file_extension": ".py",
   "mimetype": "text/x-python",
   "name": "python",
   "nbconvert_exporter": "python",
   "pygments_lexer": "ipython3",
   "version": "3.8.3"
  }
 },
 "nbformat": 4,
 "nbformat_minor": 4
}
